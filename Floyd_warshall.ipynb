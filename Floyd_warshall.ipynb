{
 "cells": [
  {
   "cell_type": "markdown",
   "metadata": {},
   "source": [
    "## Implementation of Floyd-Warshall Algorithm"
   ]
  },
  {
   "cell_type": "code",
   "execution_count": 1,
   "metadata": {},
   "outputs": [],
   "source": [
    "# Number of vertices in the graph\n",
    "nV = 5\n",
    "\n",
    "# Infinite value representing no path between nodes\n",
    "INF = 999\n",
    "\n",
    "# Labels for the vertices\n",
    "vertex_labels = ['A', 'B', 'C', 'D', 'E']"
   ]
  },
  {
   "cell_type": "code",
   "execution_count": 2,
   "metadata": {},
   "outputs": [],
   "source": [
    "# Input graph represented as an adjacency matrix\n",
    "G = [\n",
    "    [0,   4, INF,  5, INF],\n",
    "    [INF,   0,   1, INF, 6],\n",
    "    [2, INF,   0,   3, INF],\n",
    "    [INF, INF,   1,   0,2]\n",
    "    [1, INF,   INF,   4,0]\n",
    "]\n",
    "\n",
    "# G = [\n",
    "#     [0,   3, INF,   5],\n",
    "#     [2,    0, INF,  4],\n",
    "#     [INF,  1,  0, INF],\n",
    "#     [INF, INF, 2,   0]\n",
    "# ]\n",
    "\n"
   ]
  },
  {
   "cell_type": "code",
   "execution_count": 3,
   "metadata": {},
   "outputs": [],
   "source": [
    "# Function to print the solution with labels\n",
    "def print_solution(distance):\n",
    "    # Print the header row with labels\n",
    "    print(\"    \" + \"  \".join(vertex_labels))\n",
    "    for i in range(nV):\n",
    "        # Print the label for the row\n",
    "        print(vertex_labels[i], end=\" \")\n",
    "        for j in range(nV):\n",
    "            if distance[i][j] == INF:\n",
    "                print(\"INF\", end=\"  \")\n",
    "            else:\n",
    "                print(distance[i][j], end=\"  \")\n",
    "        print(\" \")"
   ]
  },
  {
   "cell_type": "code",
   "execution_count": 4,
   "metadata": {},
   "outputs": [],
   "source": [
    "# Function to implement the Floyd Warshall algorithm\n",
    "def floyd_warshall(G):\n",
    "    # Initialize the distance matrix with the input graph's adjacency matrix\n",
    "    distance = list(map(lambda i: list(map(lambda j: j, i)), G))\n",
    "\n",
    "    # Adding vertices one by one to the set of intermediate vertices\n",
    "    for k in range(nV):\n",
    "        # Pick all vertices as source one by one\n",
    "        for i in range(nV):\n",
    "            # Pick all vertices as destination for the above-picked source\n",
    "            for j in range(nV):\n",
    "                \n",
    "                # If vertex k is on the shortest path from i to j,\n",
    "                # then update the value of distance[i][j]\n",
    "                distance[i][j] = min(distance[i][j], distance[i][k] + distance[k][j])\n",
    "    \n",
    "    # Print the final shortest distance matrix with labels\n",
    "    print_solution(distance)"
   ]
  },
  {
   "cell_type": "code",
   "execution_count": 5,
   "metadata": {},
   "outputs": [
    {
     "name": "stdout",
     "output_type": "stream",
     "text": [
      "    A  B  C  D\n",
      "A 0  3  7  5   \n",
      "B 2  0  6  4   \n",
      "C 3  1  0  5   \n",
      "D 5  3  2  0   \n"
     ]
    }
   ],
   "source": [
    "# Execute the Floyd Warshall algorithm on the input graph\n",
    "floyd_warshall(G)\n"
   ]
  }
 ],
 "metadata": {
  "kernelspec": {
   "display_name": "Python 3",
   "language": "python",
   "name": "python3"
  },
  "language_info": {
   "codemirror_mode": {
    "name": "ipython",
    "version": 3
   },
   "file_extension": ".py",
   "mimetype": "text/x-python",
   "name": "python",
   "nbconvert_exporter": "python",
   "pygments_lexer": "ipython3",
   "version": "3.12.3"
  }
 },
 "nbformat": 4,
 "nbformat_minor": 2
}
